{
  "nbformat": 4,
  "nbformat_minor": 0,
  "metadata": {
    "colab": {
      "provenance": [],
      "authorship_tag": "ABX9TyPpX5T9TNye4/NEy5kuVd+J"
    },
    "kernelspec": {
      "name": "python3",
      "display_name": "Python 3"
    }
  },
  "cells": [
    {
      "cell_type": "markdown",
      "metadata": {
        "id": "gvOw6BpPTXeC"
      },
      "source": [
        "Python Script to List Compute Clusters Randomly"
      ]
    },
    {
      "cell_type": "code",
      "metadata": {
        "id": "zXGJljntTqXK"
      },
      "source": [
        "python.exe ListComputeClusters.py  -s 192.168.131.5 -u vcadmin@bhanu -p password"
      ],
      "execution_count": null,
      "outputs": []
    },
    {
      "cell_type": "code",
      "metadata": {
        "id": "Bg-jwrQvTy6C"
      },
      "source": [
        "\n",
        "\"\"\"\n",
        "vSphere Python SDK program for listing  Compute Cluster\n",
        "\"\"\"\n",
        "import argparse\n",
        "import atexit\n",
        "import ssl\n",
        "import requests\n",
        "import random\n",
        "from pyVmomi import vim\n",
        "from pyVmomi import vmodl\n",
        "from pyVim import connect\n",
        "\n",
        "\n",
        "def get_args():\n",
        "    \"\"\"\n",
        "   Supports the command-line arguments listed below.\n",
        "   \"\"\"\n",
        "    parser = argparse.ArgumentParser(\n",
        "        description='Process args for retrieving all SDRS Clusters')\n",
        "\n",
        "    parser.add_argument('-s', '--host',\n",
        "                        required=True, action='store',\n",
        "                        help='Remote host to connect to')\n",
        "\n",
        "    parser.add_argument('-o', '--port',\n",
        "                        type=int, default=443,\n",
        "                        action='store', help='Port to connect on')\n",
        "\n",
        "    parser.add_argument('-u', '--user', required=True,\n",
        "                        action='store',\n",
        "                        help='User name to use when connecting to host')\n",
        "\n",
        "    parser.add_argument('-p', '--password',\n",
        "                        required=True, action='store',\n",
        "                        help='Password to use when connecting to host')\n",
        "    args = parser.parse_args()\n",
        "    return args\n",
        "def get_all_objs(content, vimtype):\n",
        "        obj = {}\n",
        "        container = content.viewManager.CreateContainerView(content.rootFolder, vimtype, True)\n",
        "        for managed_object_ref in container.view:\n",
        "                obj.update({managed_object_ref: managed_object_ref.name})\n",
        "        return obj\n",
        "def get_Compute_Random(Clusters):\n",
        "    tmp_sdrs=[]\n",
        "    for cls in Clusters:\n",
        "        tmp_sdrs.append(cls.name)\n",
        "    return random.choice(tmp_sdrs)\n",
        "def main():\n",
        "    \"\"\"\n",
        "   Simple command-line program for listing Datastores in Datastore Cluster\n",
        "   \"\"\"\n",
        "    ssl._create_default_https_context = ssl._create_unverified_context\n",
        "    context = ssl.create_default_context()\n",
        "    context.check_hostname = False\n",
        "    context.verify_mode = ssl.CERT_NONE\n",
        "    requests.packages.urllib3.disable_warnings()\n",
        "    args = get_args()\n",
        "\n",
        "    try:\n",
        "        service_instance = connect.SmartConnect(host=args.host,\n",
        "                                                user=args.user,\n",
        "                                                pwd=args.password,\n",
        "                                                port=int(args.port))\n",
        "        if not service_instance:\n",
        "            print(\"Could not connect to the specified host using \"\n",
        "                  \"specified username and password\")\n",
        "            return -1\n",
        "\n",
        "        atexit.register(connect.Disconnect, service_instance)\n",
        "        content = service_instance.RetrieveContent()\n",
        "        Compute_Clusters = get_all_objs(content, [vim.ClusterComputeResource])\n",
        "        Compute_Cluster=get_Compute_Random(Compute_Clusters)\n",
        "        print(Compute_Cluster)\n",
        "    except vmodl.MethodFault as error:\n",
        "        print (\"Caught vmodl fault : \" + error.msg)\n",
        "        return -1\n",
        "\n",
        "    return 0\n",
        "\n",
        "# Start program\n",
        "if __name__ == \"__main__\":\n",
        "    main()\n"
      ],
      "execution_count": null,
      "outputs": []
    }
  ]
}