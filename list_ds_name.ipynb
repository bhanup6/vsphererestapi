{
  "nbformat": 4,
  "nbformat_minor": 0,
  "metadata": {
    "colab": {
      "provenance": [],
      "include_colab_link": true
    },
    "kernelspec": {
      "name": "python3",
      "display_name": "Python 3"
    }
  },
  "cells": [
    {
      "cell_type": "markdown",
      "metadata": {
        "id": "view-in-github",
        "colab_type": "text"
      },
      "source": [
        "<a href=\"https://colab.research.google.com/github/bhanup6/vsphererestapi/blob/master/list_ds_name.ipynb\" target=\"_parent\"><img src=\"https://colab.research.google.com/assets/colab-badge.svg\" alt=\"Open In Colab\"/></a>"
      ]
    },
    {
      "cell_type": "markdown",
      "metadata": {
        "id": "kuGgyovZ6Vte"
      },
      "source": [
        "Python Script to List SDRS Clusters Randomly ..save this as list_ds_name.py"
      ]
    },
    {
      "cell_type": "code",
      "metadata": {
        "id": "mF2LFnpU6SOE"
      },
      "source": [
        "python.exe list_ds_name.py -s 192.168.131.5 -u vcadmin@bhanu -p password"
      ],
      "execution_count": null,
      "outputs": []
    },
    {
      "cell_type": "code",
      "metadata": {
        "id": "lav3OQ-l6imS"
      },
      "source": [
        "#Author:BhanuPrakash\n",
        "#reference https://code.vmware.com/home\n",
        "#website:https://vexpert.dev\n",
        "\"\"\"\n",
        "vSphere Python SDK program for listing Datastores in Datastore Cluster\n",
        "\"\"\"\n",
        "import argparse\n",
        "import atexit\n",
        "import ssl\n",
        "from pyVmomi import vim\n",
        "from pyVmomi import vmodl\n",
        "from pyVim import connect\n",
        "sslContext=ssl.create_default_context(purpose=ssl.purpose.CLIENT_AUTH)\n",
        "sslContext.verify_mode=ssl.CERT_NONE\n",
        "\n",
        "def get_args():\n",
        "    \"\"\"\n",
        "   Supports the command-line arguments listed below.\n",
        "   \"\"\"\n",
        "    parser = argparse.ArgumentParser(\n",
        "        description='Reading the arguements for getting DS name')\n",
        "\n",
        "    parser.add_argument('-o', '--port',\n",
        "                        type=int, default=443,\n",
        "                        action='store', help='Port to connect on')\n",
        "\n",
        "    parser.add_argument('-u', '--user', required=True,\n",
        "                        action='store',\n",
        "                        help='User name to use when connecting to host')\n",
        "\n",
        "    parser.add_argument('-p', '--password',\n",
        "                        required=True, action='store',\n",
        "                        help='Password to use when connecting to host')\n",
        "\n",
        "    args = parser.parse_args()\n",
        "    return args\n",
        "\n",
        "\n",
        "def main():\n",
        "\n",
        "\n",
        "    args = get_args()\n",
        "    vCenters=[\"vc01\",\"vc02\"]\n",
        "    try:\n",
        "        service_instance = connect.SmartConnect(host=args.host,\n",
        "                                                user=args.user,\n",
        "                                                pwd=args.password,\n",
        "                                                port=int(args.port),sslContext=sslContext)\n",
        "        if not service_instance:\n",
        "            print(\"Could not connect to the specified host using \"\n",
        "                  \"specified username and password\")\n",
        "            return -1\n",
        "\n",
        "        atexit.register(connect.Disconnect, service_instance)\n",
        "\n",
        "        content = service_instance.RetrieveContent()\n",
        "        # Search for all Datastore Clusters aka StoragePod\n",
        "        obj_view = content.viewManager.CreateContainerView(content.rootFolder,\n",
        "                                                           [vim.StoragePod],\n",
        "                                                           True)\n",
        "        ds_cluster_list = obj_view.view\n",
        "        obj_view.Destroy()\n",
        "        ds_dict={}\n",
        "        exclude_ds_list=['dscluter1','dscluster2']\n",
        "        for ds_cluster in ds_cluster_list:\n",
        "          datastores=ds_cluster.childEntity\n",
        "          if ds_cluster.name in exclude_ds_list:\n",
        "            continue\n",
        "                for datastore in datastores:\n",
        "                    if(datastore.summary.multipleHostAccess==True):\n",
        "                        summary=datastore.summary\n",
        "                        ds_capacity=summary.capacity\n",
        "                        ds_freespace=summary.freespace\n",
        "                        ds_freespace_gb=round(((ds_freespace/1024)/1024)/1024,2)\n",
        "                        tmp={summary.name:ds_freespace_gb}\n",
        "                        ds_dict.update(tmp)\n",
        "                    else:\n",
        "                        print(\"LocalDS:{}\".format(datastore.summary.name))\n",
        "        sorted_ds_dict=sorted((ds_dict.items()),key=lambda x:x[1],reverse=True)\n",
        "        print(next(iter(sorted_ds_dict))[0])\n",
        "\n",
        "    except vmodl.MethodFault as error:\n",
        "      print(\"Caught vmodl fault : \" + error.msg)\n",
        "      return -1\n",
        "\n",
        "    return 0\n",
        "\n",
        "# Start program\n",
        "if __name__ == \"__main__\":\n",
        "    main()\n"
      ],
      "execution_count": null,
      "outputs": []
    }
  ]
}